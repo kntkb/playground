{
 "cells": [
  {
   "cell_type": "markdown",
   "metadata": {},
   "source": [
    "## Ligand efficiency\n",
    "`Motivation:` Investigate the upper-bound potency (IC50) respect to LE values\n",
    "\n",
    ">ΔG_dissociation = -RT * ln(Kd)  \n",
    ">ΔG_inhibition = -RT * ln(Ki)  \n",
    "\n",
    ">Ki = IC50 / {1+([S]/Km)}  \n",
    ">RT ~ 0.6 (T=300K)  \n",
    "\n",
    ">ln(x) = 2.303 * log(x)\n",
    "\n",
    ">LE = (ΔG) / N  \n",
    ">LE = -RT * ln(IC50) / N  \n",
    ">LE ~ 1.3818 * {-log(IC50)} / N = 1.3818 * pIC50 / N ~ 1.4 * pIC50 / N  \n",
    "\n",
    "\n",
    "**references**  \n",
    "(1) [Hopkins, A., Keseru, G., Leeson, P. et al. The fole of efficiency metrics in drug discovery. Nat. Rev. Drug. Discov. 2014, 13, 105-121](https://doi.org/10.1038/nrd4163)  \n",
    "(2) [Nissink, J. W. Simple Size-Independent Measure of Ligand Efficiency. J. Chem. Inf. Model. 2009, 49, 1617-1622](https://doi.org/10.1021/ci900094m)"
   ]
  },
  {
   "cell_type": "code",
   "execution_count": 1,
   "metadata": {},
   "outputs": [],
   "source": [
    "import os, sys, math\n",
    "import numpy as np\n",
    "import matplotlib.pyplot as plt"
   ]
  },
  {
   "cell_type": "code",
   "execution_count": 2,
   "metadata": {},
   "outputs": [],
   "source": [
    "def IC50_to_pIC50(x):\n",
    "    \"\"\"\n",
    "    x: IC50 [nM]\n",
    "    \"\"\"\n",
    "    x = x * 10**(-9)\n",
    "    return -np.log10(x)"
   ]
  },
  {
   "cell_type": "code",
   "execution_count": 3,
   "metadata": {},
   "outputs": [],
   "source": [
    "def pIC50_to_IC50(x):\n",
    "    \"\"\"\n",
    "    x: pIC50\n",
    "    return IC50 in nM\n",
    "    \"\"\"\n",
    "    return 10**(-x) * 10**9"
   ]
  },
  {
   "cell_type": "code",
   "execution_count": 4,
   "metadata": {},
   "outputs": [],
   "source": [
    "RT=0.6"
   ]
  },
  {
   "cell_type": "code",
   "execution_count": 5,
   "metadata": {},
   "outputs": [
    {
     "data": {
      "text/plain": [
       "2.302585092994046"
      ]
     },
     "execution_count": 5,
     "metadata": {},
     "output_type": "execute_result"
    }
   ],
   "source": [
    "np.log(10)"
   ]
  },
  {
   "cell_type": "code",
   "execution_count": 6,
   "metadata": {},
   "outputs": [],
   "source": [
    "CONST = np.log(10) * RT"
   ]
  },
  {
   "cell_type": "code",
   "execution_count": 7,
   "metadata": {},
   "outputs": [
    {
     "data": {
      "text/plain": [
       "1.3815510557964275"
      ]
     },
     "execution_count": 7,
     "metadata": {},
     "output_type": "execute_result"
    }
   ],
   "source": [
    "CONST"
   ]
  },
  {
   "cell_type": "markdown",
   "metadata": {},
   "source": [
    "### convert LE and HAC into IC50"
   ]
  },
  {
   "cell_type": "code",
   "execution_count": 8,
   "metadata": {},
   "outputs": [],
   "source": [
    "LE=0.27\n",
    "HAC=33\n",
    "pIC50=6.24"
   ]
  },
  {
   "cell_type": "code",
   "execution_count": 9,
   "metadata": {},
   "outputs": [
    {
     "data": {
      "text/plain": [
       "575.4399373371566"
      ]
     },
     "execution_count": 9,
     "metadata": {},
     "output_type": "execute_result"
    }
   ],
   "source": [
    "pIC50_to_IC50(pIC50)"
   ]
  },
  {
   "cell_type": "code",
   "execution_count": 10,
   "metadata": {},
   "outputs": [
    {
     "data": {
      "text/plain": [
       "7.0"
      ]
     },
     "execution_count": 10,
     "metadata": {},
     "output_type": "execute_result"
    }
   ],
   "source": [
    "IC50_to_pIC50(100)"
   ]
  },
  {
   "cell_type": "markdown",
   "metadata": {},
   "source": [
    "### maximum LE\n",
    "\n",
    "**ref.(2)**  \n",
    ">LEmax = exp(1.4)/N^0.73"
   ]
  },
  {
   "cell_type": "code",
   "execution_count": 11,
   "metadata": {},
   "outputs": [],
   "source": [
    "N = np.arange(10,51, 5)\n",
    "LE = [np.exp(CONST)/n**0.73 for n in N]"
   ]
  },
  {
   "cell_type": "code",
   "execution_count": 12,
   "metadata": {},
   "outputs": [
    {
     "data": {
      "image/png": "[encoded data removed]",
      "text/plain": [
       "<Figure size 432x288 with 1 Axes>"
      ]
     },
     "metadata": {
      "needs_background": "light"
     },
     "output_type": "display_data"
    }
   ],
   "source": [
    "plt.plot(N, LE, marker='o')\n",
    "plt.xlabel(\"HAC\")\n",
    "plt.ylabel(\"LE\")\n",
    "plt.grid()\n",
    "plt.show()"
   ]
  },
  {
   "cell_type": "markdown",
   "metadata": {},
   "source": [
    "### maximum pIC50 (IC50) evaluated from LEmax\n",
    "`assumption:` HAC=40 is roughly equal to MW of 450~500 (see figure from ref.2)  \n",
    "\n",
    ">pIC50 = HAC * LE / 1.3818"
   ]
  },
  {
   "cell_type": "code",
   "execution_count": 13,
   "metadata": {},
   "outputs": [],
   "source": [
    "HAC_1=35\n",
    "HAC_2=40\n",
    "HAC_3=45\n",
    "HAC_4=50\n",
    "\n",
    "labels = [\"HAC=35\", \"HAC=40\", \"HAC=45\", \"HAC=50\"]"
   ]
  },
  {
   "cell_type": "code",
   "execution_count": 14,
   "metadata": {},
   "outputs": [],
   "source": [
    "LE = np.arange(0.1,0.51,0.02)"
   ]
  },
  {
   "cell_type": "code",
   "execution_count": 15,
   "metadata": {},
   "outputs": [],
   "source": [
    "pIC50_1 = [ HAC_1*x/CONST for x in LE ]\n",
    "pIC50_2 = [ HAC_2*x/CONST for x in LE ]\n",
    "pIC50_3 = [ HAC_3*x/CONST for x in LE ]\n",
    "pIC50_4 = [ HAC_4*x/CONST for x in LE ]"
   ]
  },
  {
   "cell_type": "code",
   "execution_count": 16,
   "metadata": {},
   "outputs": [
    {
     "data": {
      "image/png": "[encoded data removed]",
      "text/plain": [
       "<Figure size 432x288 with 1 Axes>"
      ]
     },
     "metadata": {
      "needs_background": "light"
     },
     "output_type": "display_data"
    }
   ],
   "source": [
    "plt.plot(LE, pIC50_1, marker='o')\n",
    "plt.plot(LE, pIC50_2, marker='o')\n",
    "plt.plot(LE, pIC50_3, marker='o')\n",
    "plt.plot(LE, pIC50_4, marker='o')\n",
    "plt.legend(labels)\n",
    "\n",
    "plt.xlabel(\"LE\")\n",
    "plt.ylabel(\"pIC50\")\n",
    "plt.grid()\n",
    "plt.show()"
   ]
  },
  {
   "cell_type": "code",
   "execution_count": 17,
   "metadata": {},
   "outputs": [
    {
     "data": {
      "text/plain": [
       "1000.0"
      ]
     },
     "execution_count": 17,
     "metadata": {},
     "output_type": "execute_result"
    }
   ],
   "source": [
    "pIC50_to_IC50(6)"
   ]
  },
  {
   "cell_type": "code",
   "execution_count": null,
   "metadata": {},
   "outputs": [],
   "source": []
  }
 ],
 "metadata": {
  "kernelspec": {
   "display_name": "Python 3",
   "language": "python",
   "name": "python3"
  },
  "language_info": {
   "codemirror_mode": {
    "name": "ipython",
    "version": 3
   },
   "file_extension": ".py",
   "mimetype": "text/x-python",
   "name": "python",
   "nbconvert_exporter": "python",
   "pygments_lexer": "ipython3",
   "version": "3.8.8"
  }
 },
 "nbformat": 4,
 "nbformat_minor": 4
}
