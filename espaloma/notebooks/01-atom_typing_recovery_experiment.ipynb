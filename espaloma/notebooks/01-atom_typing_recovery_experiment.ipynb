{
 "cells": [
  {
   "cell_type": "code",
   "execution_count": 1,
   "id": "96873348-ab84-48be-95ea-1b306986a44e",
   "metadata": {},
   "outputs": [
    {
     "name": "stderr",
     "output_type": "stream",
     "text": [
      "Warning: importing 'simtk.openmm' is deprecated.  Import 'openmm' instead.\n",
      "Warning: Unable to load toolkit 'OpenEye Toolkit'. The Open Force Field Toolkit does not require the OpenEye Toolkits, and can use RDKit/AmberTools instead. However, if you have a valid license for the OpenEye Toolkits, consider installing them for faster performance and additional file format support: https://docs.eyesopen.com/toolkits/python/quickstart-python/linuxosx.html OpenEye offers free Toolkit licenses for academics: https://www.eyesopen.com/academic-licensing\n"
     ]
    }
   ],
   "source": [
    "import sys, os, math\n",
    "import numpy as np\n",
    "import warnings\n",
    "warnings.filterwarnings(\"ignore\")\n",
    "\n",
    "import rdkit\n",
    "from rdkit import Chem\n",
    "from rdkit.Chem import AllChem\n",
    "from rdkit.Chem import Draw\n",
    "\n",
    "import torch\n",
    "import espaloma as esp\n",
    "\n",
    "from openff.toolkit.topology import Molecule"
   ]
  },
  {
   "cell_type": "code",
   "execution_count": 3,
   "id": "e65945c9-2b35-43f5-911d-ed32e779157d",
   "metadata": {},
   "outputs": [
    {
     "name": "stderr",
     "output_type": "stream",
     "text": [
      "--2022-04-30 09:57:43--  http://data.wangyq.net/esp_datasets/zinc\n",
      "data.wangyq.net (data.wangyq.net) をDNSに問いあわせています... 52.21.33.16, 35.168.187.155, 52.2.56.64\n",
      "data.wangyq.net (data.wangyq.net)|52.21.33.16|:80 に接続しています... 接続しました。\n",
      "HTTP による接続要求を送信しました、応答を待っています... 404 Not Found\n",
      "2022-04-30 09:57:43 エラー 404: Not Found。\n",
      "\n"
     ]
    },
    {
     "ename": "FileNotFoundError",
     "evalue": "[Errno 2] No such file or directory: 'zinc'",
     "output_type": "error",
     "traceback": [
      "\u001b[0;31m---------------------------------------------------------------------------\u001b[0m",
      "\u001b[0;31mFileNotFoundError\u001b[0m                         Traceback (most recent call last)",
      "Input \u001b[0;32mIn [3]\u001b[0m, in \u001b[0;36m<cell line: 4>\u001b[0;34m()\u001b[0m\n\u001b[1;32m      2\u001b[0m \u001b[38;5;28;01mif\u001b[39;00m \u001b[38;5;129;01mnot\u001b[39;00m os\u001b[38;5;241m.\u001b[39mpath\u001b[38;5;241m.\u001b[39mexists(\u001b[38;5;124m\"\u001b[39m\u001b[38;5;124mzinc\u001b[39m\u001b[38;5;124m\"\u001b[39m):\n\u001b[1;32m      3\u001b[0m     os\u001b[38;5;241m.\u001b[39msystem(\u001b[38;5;124m\"\u001b[39m\u001b[38;5;124mwget http://data.wangyq.net/esp_datasets/zinc\u001b[39m\u001b[38;5;124m\"\u001b[39m)\n\u001b[0;32m----> 4\u001b[0m ds \u001b[38;5;241m=\u001b[39m \u001b[43mesp\u001b[49m\u001b[38;5;241;43m.\u001b[39;49m\u001b[43mdata\u001b[49m\u001b[38;5;241;43m.\u001b[39;49m\u001b[43mdataset\u001b[49m\u001b[38;5;241;43m.\u001b[39;49m\u001b[43mGraphDataset\u001b[49m\u001b[38;5;241;43m.\u001b[39;49m\u001b[43mload\u001b[49m\u001b[43m(\u001b[49m\u001b[38;5;124;43m\"\u001b[39;49m\u001b[38;5;124;43mzinc\u001b[39;49m\u001b[38;5;124;43m\"\u001b[39;49m\u001b[43m)\u001b[49m\n",
      "File \u001b[0;32m~/work/repo/ml-potential/espaloma/espaloma/data/dataset.py:359\u001b[0m, in \u001b[0;36mGraphDataset.load\u001b[0;34m(cls, path)\u001b[0m\n\u001b[1;32m    355\u001b[0m \u001b[38;5;129m@classmethod\u001b[39m\n\u001b[1;32m    356\u001b[0m \u001b[38;5;28;01mdef\u001b[39;00m \u001b[38;5;21mload\u001b[39m(\u001b[38;5;28mcls\u001b[39m, path):\n\u001b[1;32m    357\u001b[0m     \u001b[38;5;28;01mimport\u001b[39;00m \u001b[38;5;21;01mos\u001b[39;00m\n\u001b[0;32m--> 359\u001b[0m     paths \u001b[38;5;241m=\u001b[39m \u001b[43mos\u001b[49m\u001b[38;5;241;43m.\u001b[39;49m\u001b[43mlistdir\u001b[49m\u001b[43m(\u001b[49m\u001b[43mpath\u001b[49m\u001b[43m)\u001b[49m\n\u001b[1;32m    360\u001b[0m     paths \u001b[38;5;241m=\u001b[39m [_path \u001b[38;5;28;01mfor\u001b[39;00m _path \u001b[38;5;129;01min\u001b[39;00m paths]\n\u001b[1;32m    362\u001b[0m     graphs \u001b[38;5;241m=\u001b[39m []\n",
      "\u001b[0;31mFileNotFoundError\u001b[0m: [Errno 2] No such file or directory: 'zinc'"
     ]
    }
   ],
   "source": [
    "# grab data\n",
    "if not os.path.exists(\"zinc\"):\n",
    "    os.system(\"wget http://data.wangyq.net/esp_datasets/zinc\")\n",
    "ds = esp.data.dataset.GraphDataset.load(\"zinc\")"
   ]
  },
  {
   "cell_type": "code",
   "execution_count": null,
   "id": "200034d3-1bb3-4b77-9f8d-e58f626e503b",
   "metadata": {},
   "outputs": [],
   "source": [
    "# assign GAFF-1.81 atom typing\n",
    "typing = esp.graphs.legacy_force_field.LegacyForceField('gaff-1.81')\n",
    "ds.apply(typing, in_place=True) # this modify the original data"
   ]
  },
  {
   "cell_type": "code",
   "execution_count": null,
   "id": "1afe9a71-06a6-45c3-b768-997db48d9921",
   "metadata": {},
   "outputs": [],
   "source": [
    "# split the data into training, test, and validation (80:10:10) and batch the the datasets\n",
    "ds_tr, ds_te, ds_vl = ds.split([8, 1, 1])\n",
    "\n",
    "ds_tr = ds_tr.view('graph', batch_size=100, shuffle=True)\n",
    "ds_te = ds_te.view('graph', batch_size=100)\n",
    "ds_vl = ds_vl.view('graph', batch_size=100)"
   ]
  },
  {
   "cell_type": "code",
   "execution_count": null,
   "id": "9db2307f-8edc-4d9a-8c7c-dab7aa995d49",
   "metadata": {},
   "outputs": [],
   "source": [
    "# define a layer\n",
    "layer = esp.nn.layers.dgl_legacy.gn(\"SAGEConv\")\n",
    "\n",
    "# define a representation\n",
    "representation = esp.nn.Sequential(\n",
    "        layer,\n",
    "        [128, \"relu\", 128, \"relu\", 128, \"relu\"],\n",
    ")\n",
    "\n",
    "# define a readout\n",
    "readout = esp.nn.readout.node_typing.NodeTyping(\n",
    "        in_features=128,\n",
    "        n_classes=100\n",
    ")\n",
    "\n",
    "net = torch.nn.Sequential(\n",
    "    representation,\n",
    "    readout\n",
    ")"
   ]
  },
  {
   "cell_type": "code",
   "execution_count": null,
   "id": "66da90ff-f9be-4f09-a102-c3b34c759f0f",
   "metadata": {
    "scrolled": true,
    "tags": []
   },
   "outputs": [],
   "source": [
    "# define loss\n",
    "loss_fn = esp.metrics.TypingAccuracy()"
   ]
  },
  {
   "cell_type": "code",
   "execution_count": null,
   "id": "c36d7276-a532-4aed-81dc-681c89c937fa",
   "metadata": {
    "scrolled": true,
    "tags": []
   },
   "outputs": [],
   "source": [
    "# define optimizer\n",
    "optimizer = torch.optim.Adam(net.parameters(), 1e-5)\n",
    "\n",
    "# train the model\n",
    "for _ in range(3000):\n",
    "    for g in ds_tr:\n",
    "        optimizer.zero_grad()\n",
    "        net(g.heterograph)\n",
    "        loss = loss_fn(g.heterograph)\n",
    "        loss.backward()\n",
    "        optimizer.step()"
   ]
  },
  {
   "cell_type": "code",
   "execution_count": null,
   "id": "c1502b44-84bc-4111-b0d3-a36f0bd7fb9e",
   "metadata": {},
   "outputs": [],
   "source": []
  }
 ],
 "metadata": {
  "kernelspec": {
   "display_name": "Python 3 (ipykernel)",
   "language": "python",
   "name": "python3"
  },
  "language_info": {
   "codemirror_mode": {
    "name": "ipython",
    "version": 3
   },
   "file_extension": ".py",
   "mimetype": "text/x-python",
   "name": "python",
   "nbconvert_exporter": "python",
   "pygments_lexer": "ipython3",
   "version": "3.9.12"
  }
 },
 "nbformat": 4,
 "nbformat_minor": 5
}
