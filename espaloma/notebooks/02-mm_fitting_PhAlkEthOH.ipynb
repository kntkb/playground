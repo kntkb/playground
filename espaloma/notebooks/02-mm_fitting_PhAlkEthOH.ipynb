{
 "cells": [
  {
   "cell_type": "code",
   "execution_count": 1,
   "id": "96873348-ab84-48be-95ea-1b306986a44e",
   "metadata": {},
   "outputs": [
    {
     "name": "stderr",
     "output_type": "stream",
     "text": [
      "Warning: importing 'simtk.openmm' is deprecated.  Import 'openmm' instead.\n",
      "Warning: Unable to load toolkit 'OpenEye Toolkit'. The Open Force Field Toolkit does not require the OpenEye Toolkits, and can use RDKit/AmberTools instead. However, if you have a valid license for the OpenEye Toolkits, consider installing them for faster performance and additional file format support: https://docs.eyesopen.com/toolkits/python/quickstart-python/linuxosx.html OpenEye offers free Toolkit licenses for academics: https://www.eyesopen.com/academic-licensing\n"
     ]
    }
   ],
   "source": [
    "import sys, os, math\n",
    "import numpy as np\n",
    "import warnings\n",
    "warnings.filterwarnings(\"ignore\")\n",
    "\n",
    "import rdkit\n",
    "from rdkit import Chem\n",
    "from rdkit.Chem import AllChem\n",
    "from rdkit.Chem import Draw\n",
    "\n",
    "import torch\n",
    "import espaloma as esp\n",
    "\n",
    "from openff.toolkit.topology import Molecule"
   ]
  },
  {
   "cell_type": "code",
   "execution_count": 2,
   "id": "e65945c9-2b35-43f5-911d-ed32e779157d",
   "metadata": {},
   "outputs": [],
   "source": [
    "# grab data\n",
    "if not os.path.exists(\"phalkethoh_mm_small.zip\"):\n",
    "    os.system(\"wget http://data.wangyq.net/esp_dataset/phalkethoh_mm_small.zip\")\n",
    "    print(\"file downloaded\")"
   ]
  },
  {
   "cell_type": "code",
   "execution_count": 3,
   "id": "a9f12e6b-b4bf-45cd-bcba-32bdcef9468f",
   "metadata": {
    "scrolled": true,
    "tags": []
   },
   "outputs": [],
   "source": [
    "#%%capture\n",
    "#!unzip phalkethoh_mm_small.zip"
   ]
  },
  {
   "cell_type": "code",
   "execution_count": 5,
   "id": "5b5ac0a2-a67b-4e29-9d0f-739588cf8c6d",
   "metadata": {},
   "outputs": [],
   "source": [
    "ds = esp.data.dataset.GraphDataset.load(\"phalkethoh\")\n",
    "ds.shuffle(seed=2666)\n",
    "ds_tr, ds_vl, ds_te = ds.split([8, 1, 1])"
   ]
  },
  {
   "cell_type": "code",
   "execution_count": 6,
   "id": "200034d3-1bb3-4b77-9f8d-e58f626e503b",
   "metadata": {},
   "outputs": [],
   "source": [
    "# load training dataloader with batch size=100\n",
    "ds_tr_loader = ds_tr.view(batch_size=100, shuffle=True)\n",
    "\n",
    "g_tr = next(iter(ds_tr.view(batch_size=len(ds_tr))))\n",
    "g_vl = next(iter(ds_vl.view(batch_size=len(ds_vl))))"
   ]
  },
  {
   "cell_type": "markdown",
   "id": "1ee86d14-9c6f-424e-accd-bc246ca5c1ce",
   "metadata": {},
   "source": [
    "## espaloma training"
   ]
  },
  {
   "cell_type": "markdown",
   "id": "b844eda4-9d78-4a39-b397-76dfbaaa11bf",
   "metadata": {},
   "source": [
    "#### stage 1: graph -> atom latent representation"
   ]
  },
  {
   "cell_type": "code",
   "execution_count": 7,
   "id": "1afe9a71-06a6-45c3-b768-997db48d9921",
   "metadata": {},
   "outputs": [],
   "source": [
    "representation = esp.nn.Sequential(\n",
    "    layer=esp.nn.layers.dgl_legacy.gn(\"SAGEConv\"), # use SAGEConv implementation in DGL\n",
    "    config=[128, \"relu\", 128, \"relu\", 128, \"relu\"], # 3 layers, 128 units, ReLU activation\n",
    ")"
   ]
  },
  {
   "cell_type": "markdown",
   "id": "7f43fd6c-3308-42c2-bf5a-be46c4f04001",
   "metadata": {},
   "source": [
    "#### stage 2 and 3: atom latent representation bond, angle, and torsion representation and parameters"
   ]
  },
  {
   "cell_type": "code",
   "execution_count": 8,
   "id": "6ed95902-2150-4855-ba89-c3df65fabc41",
   "metadata": {},
   "outputs": [],
   "source": [
    "readout = esp.nn.readout.janossy.JanossyPooling(\n",
    "    in_features=128, config=[128, \"relu\", 128, \"relu\", 128, \"relu\"],\n",
    "    out_features={              # define modular MM parameters Espaloma will assign\n",
    "        1: {\"e\": 1, \"s\": 1}, # atom hardness and electronegativity\n",
    "        2: {\"log_coefficients\": 2}, # bond linear combination, enforce positive\n",
    "        3: {\"log_coefficients\": 2}, # angle linear combination, enforce positive\n",
    "        4: {\"k\": 6}, # torsion barrier heights (can be positive or negative)\n",
    "    },\n",
    ")"
   ]
  },
  {
   "cell_type": "markdown",
   "id": "dfb74a4e-1611-4591-8eb4-99c9aaafc4ea",
   "metadata": {},
   "source": [
    "#### compose all three stages Espaloma stages into an end-to-end model"
   ]
  },
  {
   "cell_type": "code",
   "execution_count": 9,
   "id": "f145e820-607b-4c5b-866d-80b560eac996",
   "metadata": {},
   "outputs": [],
   "source": [
    "espaloma_model = torch.nn.Sequential(\n",
    "    representation, readout, esp.nn.readout.janossy.ExpCoefficients(),\n",
    "    esp.mm.geometry.GeometryInGraph(),\n",
    "    esp.mm.energy.EnergyInGraph(),\n",
    "    esp.mm.energy.EnergyInGraph(suffix=\"_ref\"),\n",
    "    esp.nn.readout.charge_equilibrium.ChargeEquilibrium(),\n",
    ")"
   ]
  },
  {
   "cell_type": "code",
   "execution_count": 10,
   "id": "3a3c6682-0269-44a1-89c6-cae5d454dd97",
   "metadata": {},
   "outputs": [
    {
     "name": "stdout",
     "output_type": "stream",
     "text": [
      "cuda not available\n"
     ]
    }
   ],
   "source": [
    "if torch.cuda.is_available():\n",
    "    espaloma_model = espaloma_model.cuda()\n",
    "else:\n",
    "    print(\"cuda not available\")"
   ]
  },
  {
   "cell_type": "code",
   "execution_count": 11,
   "id": "4a4a85ef-7a44-4e80-9e11-4aec8702cb65",
   "metadata": {},
   "outputs": [],
   "source": [
    "# define loss function (MSE between predicted and reference energy)\n",
    "loss_fn = esp.metrics.GraphMetric(\n",
    "    base_metric=torch.nn.MSELoss(), # use mean-squared error loss\n",
    "    between=['u', \"u_ref\"],         # between predicted and QM energies\n",
    "    level=\"g\", # compare on graph level\n",
    ")"
   ]
  },
  {
   "cell_type": "code",
   "execution_count": 12,
   "id": "647d1211-fbf3-4f82-9fc6-0ba7d57cdca8",
   "metadata": {},
   "outputs": [],
   "source": [
    "# define optimizer\n",
    "optimizer = torch.optim.Adam(espaloma_model.parameters(), 1e-4)"
   ]
  },
  {
   "cell_type": "markdown",
   "id": "5a3882cc-1e3d-4d9b-ab71-0488699f4557",
   "metadata": {},
   "source": [
    "## train model"
   ]
  },
  {
   "cell_type": "code",
   "execution_count": 13,
   "id": "bee6d985-18ba-446a-a7d8-088ac608fc22",
   "metadata": {},
   "outputs": [],
   "source": [
    "#n_epochs = 10000\n",
    "n_epochs = 10"
   ]
  },
  {
   "cell_type": "code",
   "execution_count": 14,
   "id": "9db2307f-8edc-4d9a-8c7c-dab7aa995d49",
   "metadata": {},
   "outputs": [],
   "source": [
    "for idx_epoch in range(n_epochs):\n",
    "    for g in ds_tr_loader:\n",
    "        optimizer.zero_grad()\n",
    "        if torch.cuda.is_available():\n",
    "            g = g.to(\"cuda:0\")\n",
    "        g = espaloma_model(g)\n",
    "        loss = loss_fn(g)\n",
    "        loss.backward()\n",
    "        optimizer.step()\n",
    "        torch.save(espaloma_model.state_dict(), \"%s.th\" % idx_epoch)"
   ]
  },
  {
   "cell_type": "markdown",
   "id": "c7ad5f6d-aa9c-4686-81cf-bda96a885bbe",
   "metadata": {},
   "source": [
    "## inspect loss "
   ]
  },
  {
   "cell_type": "code",
   "execution_count": 16,
   "id": "8da593c5-ae30-48b5-ae64-f7e7c191089a",
   "metadata": {},
   "outputs": [],
   "source": [
    "inspect_metric = esp.metrics.GraphMetric(\n",
    "    base_metric=torch.nn.L1Loss(), # use mean-squared error loss\n",
    "    between=['u', \"u_ref\"],         # between predicted and QM energies\n",
    "    level=\"g\", # compare on graph level\n",
    ")"
   ]
  },
  {
   "cell_type": "code",
   "execution_count": 17,
   "id": "065bd4fb-4081-477f-92c4-93ff4fc8a7fd",
   "metadata": {},
   "outputs": [],
   "source": [
    "if torch.cuda.is_available():\n",
    "    g_vl = g_vl.to(\"cuda:0\")\n",
    "    g_tr = g_tr.to(\"cuda:0\")"
   ]
  },
  {
   "cell_type": "code",
   "execution_count": 18,
   "id": "bd9f7a14-8371-4d6e-a6b9-c9077d5e7278",
   "metadata": {},
   "outputs": [],
   "source": [
    "loss_tr = []\n",
    "loss_vl = []"
   ]
  },
  {
   "cell_type": "code",
   "execution_count": 19,
   "id": "4c6c885e-8a41-49e1-95d2-2c6d79919e29",
   "metadata": {},
   "outputs": [],
   "source": [
    "for idx_epoch in range(n_epochs):\n",
    "    espaloma_model.load_state_dict(\n",
    "        torch.load(\"%s.th\" % idx_epoch)\n",
    "    )\n",
    "\n",
    "    espaloma_model(g_tr)\n",
    "    loss_tr.append(inspect_metric(g_tr).item())\n",
    "\n",
    "    espaloma_model(g_vl)\n",
    "    loss_vl.append(inspect_metric(g_vl).item())"
   ]
  },
  {
   "cell_type": "code",
   "execution_count": 20,
   "id": "65e6bba1-e638-4309-870c-3dea3e72d229",
   "metadata": {},
   "outputs": [],
   "source": [
    "loss_tr = np.array(loss_tr) * 627.5\n",
    "loss_vl = np.array(loss_vl) * 627.5"
   ]
  },
  {
   "cell_type": "code",
   "execution_count": 23,
   "id": "b4730ed2-62a2-4183-b123-17483d112e64",
   "metadata": {},
   "outputs": [
    {
     "data": {
      "image/png": "[encoded data removed]",
      "text/plain": [
       "<Figure size 432x288 with 1 Axes>"
      ]
     },
     "metadata": {
      "needs_background": "light"
     },
     "output_type": "display_data"
    }
   ],
   "source": [
    "from matplotlib import pyplot as plt\n",
    "\n",
    "plt.plot(loss_tr, label=\"train\")\n",
    "plt.plot(loss_vl, label=\"valid\")\n",
    "plt.yscale(\"log\")\n",
    "plt.legend()\n",
    "plt.show()"
   ]
  },
  {
   "cell_type": "code",
   "execution_count": null,
   "id": "0c6bf6cc-726b-4201-8fb8-2c88c3cbb0f6",
   "metadata": {},
   "outputs": [],
   "source": []
  }
 ],
 "metadata": {
  "kernelspec": {
   "display_name": "Python 3 (ipykernel)",
   "language": "python",
   "name": "python3"
  },
  "language_info": {
   "codemirror_mode": {
    "name": "ipython",
    "version": 3
   },
   "file_extension": ".py",
   "mimetype": "text/x-python",
   "name": "python",
   "nbconvert_exporter": "python",
   "pygments_lexer": "ipython3",
   "version": "3.9.12"
  }
 },
 "nbformat": 4,
 "nbformat_minor": 5
}
