{
 "cells": [
  {
   "cell_type": "code",
   "execution_count": 24,
   "id": "96873348-ab84-48be-95ea-1b306986a44e",
   "metadata": {},
   "outputs": [],
   "source": [
    "import sys, os, math\n",
    "import numpy as np\n",
    "import warnings\n",
    "warnings.filterwarnings(\"ignore\")\n",
    "\n",
    "import rdkit\n",
    "from rdkit import Chem\n",
    "from rdkit.Chem import AllChem\n",
    "from rdkit.Chem import Draw\n",
    "\n",
    "import torch\n",
    "import espaloma as esp\n",
    "\n",
    "from openff.toolkit.topology import Molecule"
   ]
  },
  {
   "cell_type": "code",
   "execution_count": 2,
   "id": "e65945c9-2b35-43f5-911d-ed32e779157d",
   "metadata": {},
   "outputs": [],
   "source": [
    "# grab pretrained model\n",
    "if not os.path.exists(\"espaloma_model.pt\"):\n",
    "    os.system(\"wget http://data.wangyq.net/espaloma_model.pt\")"
   ]
  },
  {
   "cell_type": "code",
   "execution_count": 4,
   "id": "200034d3-1bb3-4b77-9f8d-e58f626e503b",
   "metadata": {},
   "outputs": [
    {
     "data": {
      "image/png": "[encoded data removed]",
      "text/plain": [
       "<PIL.PngImagePlugin.PngImageFile image mode=RGB size=100x100>"
      ]
     },
     "execution_count": 4,
     "metadata": {},
     "output_type": "execute_result"
    }
   ],
   "source": [
    "smi = \"CN1C=NC2=C1C(=O)N(C(=O)N2C)C\"\n",
    "mol = Chem.MolFromSmiles(smi)\n",
    "Draw.MolToImage(mol, size=(100,100))"
   ]
  },
  {
   "cell_type": "code",
   "execution_count": 13,
   "id": "1afe9a71-06a6-45c3-b768-997db48d9921",
   "metadata": {},
   "outputs": [],
   "source": [
    "# define or load a molecule of interest via the Open Force Field toolkit\n",
    "molecule = Molecule.from_smiles(smi)"
   ]
  },
  {
   "cell_type": "code",
   "execution_count": 14,
   "id": "9db2307f-8edc-4d9a-8c7c-dab7aa995d49",
   "metadata": {},
   "outputs": [],
   "source": [
    "# create an Espaloma Graph object to represent the molecule of interest\n",
    "molecule_graph = esp.Graph(molecule)"
   ]
  },
  {
   "cell_type": "code",
   "execution_count": 19,
   "id": "66da90ff-f9be-4f09-a102-c3b34c759f0f",
   "metadata": {
    "scrolled": true,
    "tags": []
   },
   "outputs": [
    {
     "data": {
      "text/plain": [
       "Graph(num_nodes={'g': 1, 'n1': 24, 'n2': 50, 'n3': 86, 'n4': 108, 'n4_improper': 48, 'nonbonded': 324, 'onefour': 92},\n",
       "      num_edges={('g', 'g_has_n1', 'n1'): 24, ('g', 'g_has_n2', 'n2'): 50, ('g', 'g_has_n3', 'n3'): 86, ('g', 'g_has_n4', 'n4'): 108, ('g', 'g_has_n4_improper', 'n4_improper'): 48, ('g', 'g_has_nonbonded', 'nonbonded'): 324, ('g', 'g_has_onefour', 'onefour'): 92, ('n1', 'n1_as_0_in_n2', 'n2'): 50, ('n1', 'n1_as_0_in_n3', 'n3'): 86, ('n1', 'n1_as_0_in_n4', 'n4'): 108, ('n1', 'n1_as_0_in_n4_improper', 'n4_improper'): 48, ('n1', 'n1_as_0_in_nonbonded', 'nonbonded'): 324, ('n1', 'n1_as_0_in_onefour', 'onefour'): 92, ('n1', 'n1_as_1_in_n2', 'n2'): 50, ('n1', 'n1_as_1_in_n3', 'n3'): 86, ('n1', 'n1_as_1_in_n4', 'n4'): 108, ('n1', 'n1_as_1_in_n4_improper', 'n4_improper'): 48, ('n1', 'n1_as_1_in_nonbonded', 'nonbonded'): 324, ('n1', 'n1_as_1_in_onefour', 'onefour'): 92, ('n1', 'n1_as_2_in_n3', 'n3'): 86, ('n1', 'n1_as_2_in_n4', 'n4'): 108, ('n1', 'n1_as_2_in_n4_improper', 'n4_improper'): 48, ('n1', 'n1_as_3_in_n4', 'n4'): 108, ('n1', 'n1_as_3_in_n4_improper', 'n4_improper'): 48, ('n1', 'n1_in_g', 'g'): 24, ('n1', 'n1_neighbors_n1', 'n1'): 50, ('n2', 'n2_as_0_in_n3', 'n3'): 86, ('n2', 'n2_as_0_in_n4', 'n4'): 108, ('n2', 'n2_as_1_in_n3', 'n3'): 86, ('n2', 'n2_as_1_in_n4', 'n4'): 108, ('n2', 'n2_as_2_in_n4', 'n4'): 108, ('n2', 'n2_has_0_n1', 'n1'): 50, ('n2', 'n2_has_1_n1', 'n1'): 50, ('n2', 'n2_in_g', 'g'): 50, ('n3', 'n3_as_0_in_n4', 'n4'): 108, ('n3', 'n3_as_1_in_n4', 'n4'): 108, ('n3', 'n3_has_0_n1', 'n1'): 86, ('n3', 'n3_has_0_n2', 'n2'): 86, ('n3', 'n3_has_1_n1', 'n1'): 86, ('n3', 'n3_has_1_n2', 'n2'): 86, ('n3', 'n3_has_2_n1', 'n1'): 86, ('n3', 'n3_in_g', 'g'): 86, ('n4', 'n4_has_0_n1', 'n1'): 108, ('n4', 'n4_has_0_n2', 'n2'): 108, ('n4', 'n4_has_0_n3', 'n3'): 108, ('n4', 'n4_has_1_n1', 'n1'): 108, ('n4', 'n4_has_1_n2', 'n2'): 108, ('n4', 'n4_has_1_n3', 'n3'): 108, ('n4', 'n4_has_2_n1', 'n1'): 108, ('n4', 'n4_has_2_n2', 'n2'): 108, ('n4', 'n4_has_3_n1', 'n1'): 108, ('n4', 'n4_in_g', 'g'): 108, ('n4_improper', 'n4_improper_has_0_n1', 'n1'): 48, ('n4_improper', 'n4_improper_has_1_n1', 'n1'): 48, ('n4_improper', 'n4_improper_has_2_n1', 'n1'): 48, ('n4_improper', 'n4_improper_has_3_n1', 'n1'): 48, ('n4_improper', 'n4_improper_in_g', 'g'): 48, ('nonbonded', 'nonbonded_has_0_n1', 'n1'): 324, ('nonbonded', 'nonbonded_has_1_n1', 'n1'): 324, ('nonbonded', 'nonbonded_in_g', 'g'): 324, ('onefour', 'onefour_has_0_n1', 'n1'): 92, ('onefour', 'onefour_has_1_n1', 'n1'): 92, ('onefour', 'onefour_in_g', 'g'): 92},\n",
       "      metagraph=[('g', 'n1', 'g_has_n1'), ('g', 'n2', 'g_has_n2'), ('g', 'n3', 'g_has_n3'), ('g', 'n4', 'g_has_n4'), ('g', 'n4_improper', 'g_has_n4_improper'), ('g', 'nonbonded', 'g_has_nonbonded'), ('g', 'onefour', 'g_has_onefour'), ('n1', 'n2', 'n1_as_0_in_n2'), ('n1', 'n2', 'n1_as_1_in_n2'), ('n1', 'n3', 'n1_as_0_in_n3'), ('n1', 'n3', 'n1_as_1_in_n3'), ('n1', 'n3', 'n1_as_2_in_n3'), ('n1', 'n4', 'n1_as_0_in_n4'), ('n1', 'n4', 'n1_as_1_in_n4'), ('n1', 'n4', 'n1_as_2_in_n4'), ('n1', 'n4', 'n1_as_3_in_n4'), ('n1', 'n4_improper', 'n1_as_0_in_n4_improper'), ('n1', 'n4_improper', 'n1_as_1_in_n4_improper'), ('n1', 'n4_improper', 'n1_as_2_in_n4_improper'), ('n1', 'n4_improper', 'n1_as_3_in_n4_improper'), ('n1', 'nonbonded', 'n1_as_0_in_nonbonded'), ('n1', 'nonbonded', 'n1_as_1_in_nonbonded'), ('n1', 'onefour', 'n1_as_0_in_onefour'), ('n1', 'onefour', 'n1_as_1_in_onefour'), ('n1', 'g', 'n1_in_g'), ('n1', 'n1', 'n1_neighbors_n1'), ('n2', 'n3', 'n2_as_0_in_n3'), ('n2', 'n3', 'n2_as_1_in_n3'), ('n2', 'n4', 'n2_as_0_in_n4'), ('n2', 'n4', 'n2_as_1_in_n4'), ('n2', 'n4', 'n2_as_2_in_n4'), ('n2', 'n1', 'n2_has_0_n1'), ('n2', 'n1', 'n2_has_1_n1'), ('n2', 'g', 'n2_in_g'), ('n3', 'n4', 'n3_as_0_in_n4'), ('n3', 'n4', 'n3_as_1_in_n4'), ('n3', 'n1', 'n3_has_0_n1'), ('n3', 'n1', 'n3_has_1_n1'), ('n3', 'n1', 'n3_has_2_n1'), ('n3', 'n2', 'n3_has_0_n2'), ('n3', 'n2', 'n3_has_1_n2'), ('n3', 'g', 'n3_in_g'), ('n4', 'n1', 'n4_has_0_n1'), ('n4', 'n1', 'n4_has_1_n1'), ('n4', 'n1', 'n4_has_2_n1'), ('n4', 'n1', 'n4_has_3_n1'), ('n4', 'n2', 'n4_has_0_n2'), ('n4', 'n2', 'n4_has_1_n2'), ('n4', 'n2', 'n4_has_2_n2'), ('n4', 'n3', 'n4_has_0_n3'), ('n4', 'n3', 'n4_has_1_n3'), ('n4', 'g', 'n4_in_g'), ('n4_improper', 'n1', 'n4_improper_has_0_n1'), ('n4_improper', 'n1', 'n4_improper_has_1_n1'), ('n4_improper', 'n1', 'n4_improper_has_2_n1'), ('n4_improper', 'n1', 'n4_improper_has_3_n1'), ('n4_improper', 'g', 'n4_improper_in_g'), ('nonbonded', 'n1', 'nonbonded_has_0_n1'), ('nonbonded', 'n1', 'nonbonded_has_1_n1'), ('nonbonded', 'g', 'nonbonded_in_g'), ('onefour', 'n1', 'onefour_has_0_n1'), ('onefour', 'n1', 'onefour_has_1_n1'), ('onefour', 'g', 'onefour_in_g')])"
      ]
     },
     "execution_count": 19,
     "metadata": {},
     "output_type": "execute_result"
    }
   ],
   "source": [
    "# apply a trained espaloma model to assign parameters\n",
    "espaloma_model = torch.load(\"espaloma_model.pt\")\n",
    "espaloma_model(molecule_graph.heterograph)"
   ]
  },
  {
   "cell_type": "code",
   "execution_count": 21,
   "id": "c36d7276-a532-4aed-81dc-681c89c937fa",
   "metadata": {
    "scrolled": true,
    "tags": []
   },
   "outputs": [],
   "source": [
    "# create an OpenMM System for the specified molecule\n",
    "openmm_system = esp.graphs.deploy.openmm_system_from_graph(molecule_graph)"
   ]
  },
  {
   "cell_type": "code",
   "execution_count": null,
   "id": "c1502b44-84bc-4111-b0d3-a36f0bd7fb9e",
   "metadata": {},
   "outputs": [],
   "source": []
  }
 ],
 "metadata": {
  "kernelspec": {
   "display_name": "Python 3 (ipykernel)",
   "language": "python",
   "name": "python3"
  },
  "language_info": {
   "codemirror_mode": {
    "name": "ipython",
    "version": 3
   },
   "file_extension": ".py",
   "mimetype": "text/x-python",
   "name": "python",
   "nbconvert_exporter": "python",
   "pygments_lexer": "ipython3",
   "version": "3.9.12"
  }
 },
 "nbformat": 4,
 "nbformat_minor": 5
}
